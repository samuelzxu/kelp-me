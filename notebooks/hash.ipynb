{
 "cells": [
  {
   "cell_type": "code",
   "execution_count": null,
   "metadata": {},
   "outputs": [],
   "source": [
    "import hashlib"
   ]
  },
  {
   "cell_type": "code",
   "execution_count": null,
   "metadata": {},
   "outputs": [],
   "source": [
    "import pandas as pd"
   ]
  },
  {
   "cell_type": "code",
   "execution_count": null,
   "metadata": {},
   "outputs": [],
   "source": [
    "metadata = pd.read_csv('data/metadata.csv')"
   ]
  },
  {
   "cell_type": "code",
   "execution_count": null,
   "metadata": {},
   "outputs": [],
   "source": [
    "metadata.head()"
   ]
  },
  {
   "cell_type": "code",
   "execution_count": null,
   "metadata": {},
   "outputs": [],
   "source": [
    "\n",
    "from tqdm import tqdm\n",
    "for i,r in tqdm(metadata.iterrows()):\n",
    "    h = hashlib.new('md5')\n",
    "    md5 = r['md5_hash']\n",
    "    try:\n",
    "        if r['type'] == 'kelp':\n",
    "            with open(\"data/train_kelp/\"+r['filename'], mode=\"rb\") as f:\n",
    "                h.update(f.read())\n",
    "                assert(h.hexdigest() == md5)\n",
    "        elif r['in_train'] and r['type'] == 'satellite':\n",
    "            with open(\"data/train_satellite/\"+r['filename'], mode=\"rb\") as f:\n",
    "                h.update(f.read())\n",
    "                assert(h.hexdigest() == md5)\n",
    "        else:\n",
    "            with open(\"data/test_satellite/\"+r['filename'], mode=\"rb\") as f:\n",
    "                h.update(f.read())\n",
    "                assert(h.hexdigest() == md5)\n",
    "    except Exception as e:\n",
    "        print(e)"
   ]
  }
 ],
 "metadata": {
  "kernelspec": {
   "display_name": "ml-playground",
   "language": "python",
   "name": "python3"
  },
  "language_info": {
   "codemirror_mode": {
    "name": "ipython",
    "version": 3
   },
   "file_extension": ".py",
   "mimetype": "text/x-python",
   "name": "python",
   "nbconvert_exporter": "python",
   "pygments_lexer": "ipython3",
   "version": "3.10.13"
  }
 },
 "nbformat": 4,
 "nbformat_minor": 2
}
