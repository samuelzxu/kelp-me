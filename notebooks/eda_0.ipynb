{
 "cells": [
  {
   "cell_type": "code",
   "execution_count": null,
   "metadata": {},
   "outputs": [],
   "source": [
    "%cd .."
   ]
  },
  {
   "cell_type": "code",
   "execution_count": null,
   "metadata": {},
   "outputs": [],
   "source": [
    "import pandas as pd\n",
    "import numpy as np\n",
    "import matplotlib.pyplot as plt "
   ]
  },
  {
   "cell_type": "code",
   "execution_count": null,
   "metadata": {},
   "outputs": [],
   "source": [
    "met_df = pd.read_csv('kelp_data/metadata.csv')"
   ]
  },
  {
   "cell_type": "code",
   "execution_count": null,
   "metadata": {},
   "outputs": [],
   "source": [
    "met_df.head()"
   ]
  },
  {
   "cell_type": "code",
   "execution_count": null,
   "metadata": {},
   "outputs": [],
   "source": [
    "met_df['type'].unique()"
   ]
  },
  {
   "cell_type": "code",
   "execution_count": null,
   "metadata": {},
   "outputs": [],
   "source": [
    "# are there the same number of kelp data points as there are satellite?\n",
    "kelp_subs = met_df[met_df['type'] == 'kelp']\n",
    "sat_subs = met_df[met_df['type'] == 'satellite']\n",
    "len(kelp_subs), len(sat_subs)"
   ]
  },
  {
   "cell_type": "code",
   "execution_count": null,
   "metadata": {},
   "outputs": [],
   "source": [
    "import rasterio"
   ]
  },
  {
   "cell_type": "code",
   "execution_count": null,
   "metadata": {},
   "outputs": [],
   "source": [
    "dataset = rasterio.open('kelp_data/train_satellite/AA498489_satellite.tif')"
   ]
  },
  {
   "cell_type": "code",
   "execution_count": null,
   "metadata": {},
   "outputs": [],
   "source": [
    "{i: dtype for i, dtype in zip(dataset.indexes, dataset.dtypes)}"
   ]
  },
  {
   "cell_type": "code",
   "execution_count": null,
   "metadata": {},
   "outputs": [],
   "source": [
    "dataset.shape"
   ]
  },
  {
   "cell_type": "code",
   "execution_count": null,
   "metadata": {},
   "outputs": [],
   "source": [
    "ind = dataset.indexes"
   ]
  },
  {
   "cell_type": "code",
   "execution_count": null,
   "metadata": {},
   "outputs": [],
   "source": [
    "dataset.read(ind[2]).shape"
   ]
  },
  {
   "cell_type": "code",
   "execution_count": null,
   "metadata": {},
   "outputs": [],
   "source": [
    "kelp= rasterio.open('kelp_data/train_kelp/AA498489_kelp.tif')"
   ]
  },
  {
   "cell_type": "code",
   "execution_count": null,
   "metadata": {},
   "outputs": [],
   "source": [
    "kelp_subset = met_df[met_df['type'] == 'kelp']"
   ]
  },
  {
   "cell_type": "code",
   "execution_count": null,
   "metadata": {},
   "outputs": [],
   "source": [
    "not_kelp = met_df[~(met_df['type'] == 'kelp')]"
   ]
  },
  {
   "cell_type": "code",
   "execution_count": null,
   "metadata": {},
   "outputs": [],
   "source": [
    "not_kelp"
   ]
  },
  {
   "cell_type": "code",
   "execution_count": null,
   "metadata": {},
   "outputs": [],
   "source": []
  },
  {
   "cell_type": "code",
   "execution_count": null,
   "metadata": {},
   "outputs": [],
   "source": [
    "from tqdm import tqdm\n",
    "maxmins = {\n",
    "    'band'+str(i): {'min': 100000,'max': -100000} \n",
    "    for i in range(1,6)\n",
    "}\n",
    "for _, r in tqdm(not_kelp.iterrows()):\n",
    "    name = r['filename']\n",
    "    if r['in_train']:\n",
    "        img = rasterio.open('kelp_data/train_satellite/'+name)\n",
    "    else:\n",
    "        img = rasterio.open('kelp_data/test_satellite/'+name)\n",
    "    for i in range(1,6):\n",
    "        band_min = img.read(i)[img.read(i) > -32768].min()\n",
    "        maxmins['band'+str(i)]['min'] = min(maxmins['band'+str(i)]['min'], band_min)\n",
    "        band_max = img.read(i)[img.read(i) < 65535].max()\n",
    "        maxmins['band'+str(i)]['max'] = max(maxmins['band'+str(i)]['max'] , band_max)\n",
    "    "
   ]
  },
  {
   "cell_type": "code",
   "execution_count": null,
   "metadata": {},
   "outputs": [],
   "source": [
    "maxmins"
   ]
  },
  {
   "cell_type": "code",
   "execution_count": null,
   "metadata": {},
   "outputs": [],
   "source": [
    "from pathlib import Path\n",
    "empty = 0\n",
    "for i, k in kelp_subset.iterrows():\n",
    "    name = k['filename']\n",
    "    if \n",
    "    d = rasterio.open('/home/ziggy/devel/kelp-me/kelp_data/train_kelp/'+name)\n",
    "    "
   ]
  },
  {
   "cell_type": "code",
   "execution_count": null,
   "metadata": {},
   "outputs": [],
   "source": [
    "len(kelp_subset)"
   ]
  },
  {
   "cell_type": "code",
   "execution_count": null,
   "metadata": {},
   "outputs": [],
   "source": [
    "empty"
   ]
  },
  {
   "cell_type": "markdown",
   "metadata": {},
   "source": [
    "#### Result: 2000/5635 train are entirely empty"
   ]
  },
  {
   "cell_type": "code",
   "execution_count": null,
   "metadata": {},
   "outputs": [],
   "source": [
    "sat_in_train = (met_df['type'] == 'satellite') * (met_df['in_train'])\n",
    "sat_train = met_df[sat_in_train]\n",
    "len(sat_train)\n"
   ]
  },
  {
   "cell_type": "code",
   "execution_count": null,
   "metadata": {},
   "outputs": [],
   "source": [
    "joined_train = kelp_subset.merge( right = sat_train, on='tile_id' , suffixes=['_kelp','_sat'])"
   ]
  },
  {
   "cell_type": "code",
   "execution_count": null,
   "metadata": {},
   "outputs": [],
   "source": [
    "centerWavelengths = [1650, 860, 650, 550, 470]"
   ]
  },
  {
   "cell_type": "code",
   "execution_count": null,
   "metadata": {},
   "outputs": [],
   "source": [
    "from rasterio.plot import show, show_hist\n",
    "\n",
    "for i,r in joined_train[:10].iterrows():\n",
    "    sat_file = rasterio.open('kelp_data/train_satellite/'+r['filename_sat'])\n",
    "    kelp_file = rasterio.open('kelp_data/train_kelp/'+r['filename_kelp'])\n",
    "    # for i in sat_file.indexes:\n",
    "    #     show(sat_file.read(i), transform=sat_file.transform)\n",
    "    max_val = 65536\n",
    "    print(\"#########################################################\")\n",
    "    show(kelp_file.read(1))\n",
    "    show(sat_file.read([3,4,5])/max_val)\n",
    "    show(sat_file.read(1))\n",
    "    show(sat_file.read(2))\n",
    "    show(sat_file.read(6))\n",
    "    show(sat_file.read(7))\n",
    "    \n",
    "    show_hist(\n",
    "        sat_file.read(), bins=50, lw=0.0, stacked=False, alpha=0.3,\n",
    "        histtype='stepfilled', title=\"Histogram\")\n"
   ]
  },
  {
   "cell_type": "markdown",
   "metadata": {},
   "source": [
    "### Data Cleaning\n",
    "- remove invalid pixels (negative int)\n",
    "- remove cloud mask?\n",
    "- remove land?\n",
    "- image augumentation using random masks, transforms, flips, scaling\n",
    "- "
   ]
  }
 ],
 "metadata": {
  "kernelspec": {
   "display_name": "Python 3 (ipykernel)",
   "language": "python",
   "name": "python3"
  },
  "language_info": {
   "codemirror_mode": {
    "name": "ipython",
    "version": 3
   },
   "file_extension": ".py",
   "mimetype": "text/x-python",
   "name": "python",
   "nbconvert_exporter": "python",
   "pygments_lexer": "ipython3",
   "version": "3.10.13"
  }
 },
 "nbformat": 4,
 "nbformat_minor": 4
}
