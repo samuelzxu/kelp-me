{
 "cells": [
  {
   "cell_type": "code",
   "execution_count": null,
   "metadata": {},
   "outputs": [],
   "source": [
    "from tqdm import tqdm\n",
    "import numpy as np\n",
    "import pandas as pd\n",
    "import rasterio\n",
    "import matplotlib.pyplot as plt\n",
    "\n",
    "met_df = pd.read_csv('kelp_data/metadata.csv')\n",
    "not_kelp = met_df[~(met_df['type'] == 'kelp')]"
   ]
  },
  {
   "cell_type": "code",
   "execution_count": null,
   "metadata": {},
   "outputs": [],
   "source": [
    "traindf = pd.read_csv('kelp_data/train.csv')\n",
    "testdf = pd.read_csv('kelp_data/test.csv')"
   ]
  },
  {
   "cell_type": "code",
   "execution_count": null,
   "metadata": {},
   "outputs": [],
   "source": [
    "fname_tr = traindf.iloc[0]['filename_sat']"
   ]
  },
  {
   "cell_type": "code",
   "execution_count": null,
   "metadata": {},
   "outputs": [],
   "source": [
    "imds = rasterio.open(f\"kelp_data/train_satellite/{fname_tr}\")"
   ]
  },
  {
   "cell_type": "markdown",
   "metadata": {},
   "source": [
    "- compare performance with:\n",
    "    - cloud band, dem, invalid segments"
   ]
  },
  {
   "cell_type": "code",
   "execution_count": null,
   "metadata": {},
   "outputs": [],
   "source": [
    "land_mask = (imds.read(7) > 0)*3\n",
    "cloud_mask = (imds.read(6)*2)\n",
    "error_mask = (imds.read(5) == -32_768)"
   ]
  },
  {
   "cell_type": "code",
   "execution_count": null,
   "metadata": {},
   "outputs": [],
   "source": [
    "np.array([0,1])&np.array([1,0])"
   ]
  },
  {
   "cell_type": "code",
   "execution_count": null,
   "metadata": {},
   "outputs": [],
   "source": [
    "import matplotlib.pyplot as plt"
   ]
  },
  {
   "cell_type": "code",
   "execution_count": null,
   "metadata": {},
   "outputs": [],
   "source": [
    "from rasterio.plot import show"
   ]
  },
  {
   "cell_type": "code",
   "execution_count": null,
   "metadata": {},
   "outputs": [],
   "source": [
    "# compute intersection amongst all the cloud bands and labels\n",
    "mysums = []\n",
    "from tqdm import tqdm\n",
    "for i, row in tqdm(traindf.iterrows()):\n",
    "    sat_file = rasterio.open('kelp_data/train_satellite/'+row['filename_sat'])\n",
    "    kelp_file = rasterio.open('kelp_data/train_kelp/'+row['filename_kelp'])\n",
    "    land = sat_file.read(7).astype(np.uint8) > 0\n",
    "    label = np.ascontiguousarray(kelp_file.read(1).astype(np.uint8)) == 1\n",
    "    mysum = (label & land).sum()\n",
    "    if mysum:\n",
    "        mysums.append(mysum)\n",
    "    # if mysum > 100:\n",
    "    #     print(\"Sat file:\")\n",
    "    #     show(sat_file)\n",
    "    #     print(\"Kelp file:\")\n",
    "    #     show(kelp_file)\n",
    "    #     print(\"Cloud file:\")\n",
    "    #     show(sat_file.read(6))\n"
   ]
  },
  {
   "cell_type": "code",
   "execution_count": null,
   "metadata": {},
   "outputs": [],
   "source": [
    "_ = plt.hist(mysums, bins=100)"
   ]
  },
  {
   "cell_type": "code",
   "execution_count": null,
   "metadata": {},
   "outputs": [],
   "source": []
  }
 ],
 "metadata": {
  "kernelspec": {
   "display_name": "ml-playground",
   "language": "python",
   "name": "python3"
  },
  "language_info": {
   "codemirror_mode": {
    "name": "ipython",
    "version": 3
   },
   "file_extension": ".py",
   "mimetype": "text/x-python",
   "name": "python",
   "nbconvert_exporter": "python",
   "pygments_lexer": "ipython3",
   "version": "3.10.13"
  }
 },
 "nbformat": 4,
 "nbformat_minor": 2
}
