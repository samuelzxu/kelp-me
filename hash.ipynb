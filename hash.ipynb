{
 "cells": [
  {
   "cell_type": "code",
   "execution_count": 1,
   "metadata": {},
   "outputs": [],
   "source": [
    "import hashlib"
   ]
  },
  {
   "cell_type": "code",
   "execution_count": 3,
   "metadata": {},
   "outputs": [],
   "source": [
    "import pandas as pd"
   ]
  },
  {
   "cell_type": "code",
   "execution_count": 5,
   "metadata": {},
   "outputs": [],
   "source": [
    "metadata = pd.read_csv('data/metadata.csv')"
   ]
  },
  {
   "cell_type": "code",
   "execution_count": 7,
   "metadata": {},
   "outputs": [
    {
     "data": {
      "text/html": [
       "<div>\n",
       "<style scoped>\n",
       "    .dataframe tbody tr th:only-of-type {\n",
       "        vertical-align: middle;\n",
       "    }\n",
       "\n",
       "    .dataframe tbody tr th {\n",
       "        vertical-align: top;\n",
       "    }\n",
       "\n",
       "    .dataframe thead th {\n",
       "        text-align: right;\n",
       "    }\n",
       "</style>\n",
       "<table border=\"1\" class=\"dataframe\">\n",
       "  <thead>\n",
       "    <tr style=\"text-align: right;\">\n",
       "      <th></th>\n",
       "      <th>tile_id</th>\n",
       "      <th>filename</th>\n",
       "      <th>md5_hash</th>\n",
       "      <th>filesize_bytes</th>\n",
       "      <th>type</th>\n",
       "      <th>in_train</th>\n",
       "    </tr>\n",
       "  </thead>\n",
       "  <tbody>\n",
       "    <tr>\n",
       "      <th>0</th>\n",
       "      <td>JW725114</td>\n",
       "      <td>JW725114_satellite.tif</td>\n",
       "      <td>97b19f0747260df89e23f33caced3632</td>\n",
       "      <td>1105392</td>\n",
       "      <td>satellite</td>\n",
       "      <td>True</td>\n",
       "    </tr>\n",
       "    <tr>\n",
       "      <th>1</th>\n",
       "      <td>UX493605</td>\n",
       "      <td>UX493605_satellite.tif</td>\n",
       "      <td>fbdd888f115ede68ee83996071c007dc</td>\n",
       "      <td>1270901</td>\n",
       "      <td>satellite</td>\n",
       "      <td>True</td>\n",
       "    </tr>\n",
       "    <tr>\n",
       "      <th>2</th>\n",
       "      <td>OU500661</td>\n",
       "      <td>OU500661_satellite.tif</td>\n",
       "      <td>2003e7d0eaf10894e796721b5d344eeb</td>\n",
       "      <td>1238008</td>\n",
       "      <td>satellite</td>\n",
       "      <td>True</td>\n",
       "    </tr>\n",
       "    <tr>\n",
       "      <th>3</th>\n",
       "      <td>DC227980</td>\n",
       "      <td>DC227980_satellite.tif</td>\n",
       "      <td>8498ccaff72b8d7cfcc7f9404baf36f2</td>\n",
       "      <td>1252483</td>\n",
       "      <td>satellite</td>\n",
       "      <td>True</td>\n",
       "    </tr>\n",
       "    <tr>\n",
       "      <th>4</th>\n",
       "      <td>SS602790</td>\n",
       "      <td>SS602790_satellite.tif</td>\n",
       "      <td>525618743f94a065158f432bd5ee2d32</td>\n",
       "      <td>1535964</td>\n",
       "      <td>satellite</td>\n",
       "      <td>True</td>\n",
       "    </tr>\n",
       "  </tbody>\n",
       "</table>\n",
       "</div>"
      ],
      "text/plain": [
       "    tile_id                filename                          md5_hash  \\\n",
       "0  JW725114  JW725114_satellite.tif  97b19f0747260df89e23f33caced3632   \n",
       "1  UX493605  UX493605_satellite.tif  fbdd888f115ede68ee83996071c007dc   \n",
       "2  OU500661  OU500661_satellite.tif  2003e7d0eaf10894e796721b5d344eeb   \n",
       "3  DC227980  DC227980_satellite.tif  8498ccaff72b8d7cfcc7f9404baf36f2   \n",
       "4  SS602790  SS602790_satellite.tif  525618743f94a065158f432bd5ee2d32   \n",
       "\n",
       "   filesize_bytes       type  in_train  \n",
       "0         1105392  satellite      True  \n",
       "1         1270901  satellite      True  \n",
       "2         1238008  satellite      True  \n",
       "3         1252483  satellite      True  \n",
       "4         1535964  satellite      True  "
      ]
     },
     "execution_count": 7,
     "metadata": {},
     "output_type": "execute_result"
    }
   ],
   "source": [
    "metadata.head()"
   ]
  },
  {
   "cell_type": "code",
   "execution_count": 14,
   "metadata": {},
   "outputs": [
    {
     "name": "stderr",
     "output_type": "stream",
     "text": [
      "12696it [00:12, 986.04it/s] \n"
     ]
    }
   ],
   "source": [
    "\n",
    "from tqdm import tqdm\n",
    "for i,r in tqdm(metadata.iterrows()):\n",
    "    h = hashlib.new('md5')\n",
    "    md5 = r['md5_hash']\n",
    "    try:\n",
    "        if r['type'] == 'kelp':\n",
    "            with open(\"data/train_kelp/\"+r['filename'], mode=\"rb\") as f:\n",
    "                h.update(f.read())\n",
    "                assert(h.hexdigest() == md5)\n",
    "        elif r['in_train'] and r['type'] == 'satellite':\n",
    "            with open(\"data/train_satellite/\"+r['filename'], mode=\"rb\") as f:\n",
    "                h.update(f.read())\n",
    "                assert(h.hexdigest() == md5)\n",
    "        else:\n",
    "            with open(\"data/test_satellite/\"+r['filename'], mode=\"rb\") as f:\n",
    "                h.update(f.read())\n",
    "                assert(h.hexdigest() == md5)\n",
    "    except Exception as e:\n",
    "        print(e)"
   ]
  }
 ],
 "metadata": {
  "kernelspec": {
   "display_name": "ml-playground",
   "language": "python",
   "name": "python3"
  },
  "language_info": {
   "codemirror_mode": {
    "name": "ipython",
    "version": 3
   },
   "file_extension": ".py",
   "mimetype": "text/x-python",
   "name": "python",
   "nbconvert_exporter": "python",
   "pygments_lexer": "ipython3",
   "version": "3.10.13"
  }
 },
 "nbformat": 4,
 "nbformat_minor": 2
}
