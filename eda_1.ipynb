{
 "cells": [
  {
   "cell_type": "code",
   "execution_count": null,
   "metadata": {},
   "outputs": [],
   "source": [
    "from tqdm import tqdm\n",
    "import numpy as np\n",
    "import pandas as pd\n",
    "import rasterio\n",
    "import matplotlib.pyplot as plt\n",
    "\n",
    "met_df = pd.read_csv('kelp_data/metadata.csv')\n",
    "not_kelp = met_df[~(met_df['type'] == 'kelp')]"
   ]
  },
  {
   "cell_type": "code",
   "execution_count": null,
   "metadata": {},
   "outputs": [],
   "source": [
    "traindf = pd.read_csv('kelp_data/train.csv')\n",
    "testdf = pd.read_csv('kelp_data/test.csv')"
   ]
  },
  {
   "cell_type": "code",
   "execution_count": null,
   "metadata": {},
   "outputs": [],
   "source": [
    "cloud_band = np.fromfile('allstacked-band7.npy',dtype=np.int16)\n",
    "band_1 = np.fromfile('allstacked-band1.npy',dtype=np.int16)\n",
    "no_cloud_b1 = band_1[~cloud_band.astype(bool)].flatten()\n",
    "band_1 = band_1[band_1 > 0]"
   ]
  },
  {
   "cell_type": "code",
   "execution_count": null,
   "metadata": {},
   "outputs": [],
   "source": [
    "_ = plt.hist(no_cloud_b1,bins=100, log=True)"
   ]
  },
  {
   "cell_type": "code",
   "execution_count": null,
   "metadata": {},
   "outputs": [],
   "source": [
    "_ = plt.hist(band_1,bins=500, log=True)"
   ]
  },
  {
   "cell_type": "code",
   "execution_count": null,
   "metadata": {},
   "outputs": [],
   "source": [
    "_ = plt.hist(no_cloud_b1,bins=500, log=True)"
   ]
  },
  {
   "cell_type": "code",
   "execution_count": null,
   "metadata": {},
   "outputs": [],
   "source": [
    "band_1.max()"
   ]
  },
  {
   "cell_type": "code",
   "execution_count": null,
   "metadata": {},
   "outputs": [],
   "source": [
    "_ = plt.hist(no_cloud_b1[no_cloud_b1>=0], bins=500)"
   ]
  },
  {
   "cell_type": "code",
   "execution_count": null,
   "metadata": {},
   "outputs": [],
   "source": [
    "\n",
    "\n",
    "for i in range(6,7):\n",
    "    agg = []\n",
    "    for _, r in tqdm(not_kelp.iterrows()):\n",
    "        name = r['filename']\n",
    "        if r['in_train']:\n",
    "            img = rasterio.open('kelp_data/train_satellite/'+name)\n",
    "        else:\n",
    "            img = rasterio.open('kelp_data/test_satellite/'+name)\n",
    "        agg.append(img.read(i))\n",
    "    stacked = np.stack(agg,axis=2)\n",
    "    np.save(file='allstacked-band'+str(i)+'.npy',arr=stacked)\n",
    "    plt.hist(stacked[~(stacked==-32_768)].flatten(),bins=100, log=True)\n",
    "    plt.title(\"Histogram of Band \"+str(i))\n",
    "    plt.show()\n"
   ]
  },
  {
   "cell_type": "markdown",
   "metadata": {},
   "source": [
    "### Key Observations:\n",
    "- Logarithmic scaling along the y axis makes the histograms more readable\n",
    "    - why is this the case for this dataset?\n",
    "- perhaps it is more sensible to give the model log-scaled data?\n",
    "- presence of abnormally large counts of data at the maximum\n",
    "- how do I effectively clean the data for use in the model? -> segment the cloud bands\n",
    "- how do I effectively use the cloud band and elevation data? -> segment the land pixels"
   ]
  },
  {
   "cell_type": "code",
   "execution_count": null,
   "metadata": {},
   "outputs": [],
   "source": []
  },
  {
   "cell_type": "code",
   "execution_count": null,
   "metadata": {},
   "outputs": [],
   "source": []
  }
 ],
 "metadata": {
  "kernelspec": {
   "display_name": "ml-playground",
   "language": "python",
   "name": "python3"
  },
  "language_info": {
   "codemirror_mode": {
    "name": "ipython",
    "version": 3
   },
   "file_extension": ".py",
   "mimetype": "text/x-python",
   "name": "python",
   "nbconvert_exporter": "python",
   "pygments_lexer": "ipython3",
   "version": "3.10.13"
  }
 },
 "nbformat": 4,
 "nbformat_minor": 2
}
